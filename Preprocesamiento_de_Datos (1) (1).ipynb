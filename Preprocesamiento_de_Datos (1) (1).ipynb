{
 "cells": [
  {
   "cell_type": "markdown",
   "metadata": {},
   "source": [
    "n\n",
    "\n",
    "n\n",
    "\n",
    "n\n",
    "\n",
    "### 0. Preprocesamiento de datos"
   ]
  },
  {
   "cell_type": "markdown",
   "metadata": {},
   "source": [
    "Importar Bibliotecas"
   ]
  },
  {
   "cell_type": "code",
   "execution_count": 1,
   "metadata": {},
   "outputs": [],
   "source": [
    "# Ignorar warnings ------------------------------------------------------------------------------------------\n",
    "\n",
    "import warnings\n",
    "warnings.filterwarnings(\"ignore\")\n",
    "\n",
    "# Lectura y manipulación de datos ---------------------------------------------------------------------------\n",
    "\n",
    "import pandas as pd\n",
    "import numpy as np\n",
    "\n",
    "# Visualización de datos ------------------------------------------------------------------------------------\n",
    "\n",
    "import matplotlib.pyplot as plt"
   ]
  },
  {
   "cell_type": "code",
   "execution_count": 2,
   "metadata": {},
   "outputs": [
    {
     "data": {
      "text/html": [
       "<div>\n",
       "<style scoped>\n",
       "    .dataframe tbody tr th:only-of-type {\n",
       "        vertical-align: middle;\n",
       "    }\n",
       "\n",
       "    .dataframe tbody tr th {\n",
       "        vertical-align: top;\n",
       "    }\n",
       "\n",
       "    .dataframe thead th {\n",
       "        text-align: right;\n",
       "    }\n",
       "</style>\n",
       "<table border=\"1\" class=\"dataframe\">\n",
       "  <thead>\n",
       "    <tr style=\"text-align: right;\">\n",
       "      <th></th>\n",
       "      <th>con1</th>\n",
       "      <th>D_R</th>\n",
       "      <th>edo</th>\n",
       "      <th>muni</th>\n",
       "      <th>loca</th>\n",
       "      <th>folio</th>\n",
       "      <th>ageb</th>\n",
       "      <th>hr_ini1</th>\n",
       "      <th>min_ini1</th>\n",
       "      <th>hr_ter1</th>\n",
       "      <th>...</th>\n",
       "      <th>Pondi2</th>\n",
       "      <th>Pondi_v</th>\n",
       "      <th>Pondi_h</th>\n",
       "      <th>sexo</th>\n",
       "      <th>edad_1</th>\n",
       "      <th>cond_act</th>\n",
       "      <th>ing_ind</th>\n",
       "      <th>ing_fam</th>\n",
       "      <th>escol</th>\n",
       "      <th>total2</th>\n",
       "    </tr>\n",
       "  </thead>\n",
       "  <tbody>\n",
       "    <tr>\n",
       "      <th>0</th>\n",
       "      <td>1</td>\n",
       "      <td></td>\n",
       "      <td>28</td>\n",
       "      <td>41</td>\n",
       "      <td>1</td>\n",
       "      <td>5</td>\n",
       "      <td>098-6</td>\n",
       "      <td>9</td>\n",
       "      <td>34</td>\n",
       "      <td>10</td>\n",
       "      <td>...</td>\n",
       "      <td>11032</td>\n",
       "      <td>5469</td>\n",
       "      <td>5490</td>\n",
       "      <td>2</td>\n",
       "      <td>3</td>\n",
       "      <td>2</td>\n",
       "      <td>0</td>\n",
       "      <td>3</td>\n",
       "      <td>2</td>\n",
       "      <td>1</td>\n",
       "    </tr>\n",
       "    <tr>\n",
       "      <th>1</th>\n",
       "      <td>2</td>\n",
       "      <td></td>\n",
       "      <td>26</td>\n",
       "      <td>18</td>\n",
       "      <td>1</td>\n",
       "      <td>1</td>\n",
       "      <td>203-A</td>\n",
       "      <td>13</td>\n",
       "      <td>40</td>\n",
       "      <td>14</td>\n",
       "      <td>...</td>\n",
       "      <td>63083</td>\n",
       "      <td>11709</td>\n",
       "      <td>11705</td>\n",
       "      <td>2</td>\n",
       "      <td>5</td>\n",
       "      <td>2</td>\n",
       "      <td>0</td>\n",
       "      <td>8</td>\n",
       "      <td>4</td>\n",
       "      <td>1</td>\n",
       "    </tr>\n",
       "    <tr>\n",
       "      <th>2</th>\n",
       "      <td>3</td>\n",
       "      <td></td>\n",
       "      <td>15</td>\n",
       "      <td>37</td>\n",
       "      <td>18</td>\n",
       "      <td>4</td>\n",
       "      <td>044-A</td>\n",
       "      <td>12</td>\n",
       "      <td>8</td>\n",
       "      <td>13</td>\n",
       "      <td>...</td>\n",
       "      <td>31357</td>\n",
       "      <td>13213</td>\n",
       "      <td>13220</td>\n",
       "      <td>1</td>\n",
       "      <td>4</td>\n",
       "      <td>1</td>\n",
       "      <td>3</td>\n",
       "      <td>3</td>\n",
       "      <td>4</td>\n",
       "      <td>1</td>\n",
       "    </tr>\n",
       "    <tr>\n",
       "      <th>3</th>\n",
       "      <td>4</td>\n",
       "      <td></td>\n",
       "      <td>15</td>\n",
       "      <td>109</td>\n",
       "      <td>3</td>\n",
       "      <td>5</td>\n",
       "      <td>078-A</td>\n",
       "      <td>11</td>\n",
       "      <td>33</td>\n",
       "      <td>12</td>\n",
       "      <td>...</td>\n",
       "      <td>61769</td>\n",
       "      <td>9125</td>\n",
       "      <td>8828</td>\n",
       "      <td>2</td>\n",
       "      <td>2</td>\n",
       "      <td>1</td>\n",
       "      <td>0</td>\n",
       "      <td>0</td>\n",
       "      <td>5</td>\n",
       "      <td>1</td>\n",
       "    </tr>\n",
       "    <tr>\n",
       "      <th>4</th>\n",
       "      <td>5</td>\n",
       "      <td></td>\n",
       "      <td>12</td>\n",
       "      <td>67</td>\n",
       "      <td>16</td>\n",
       "      <td>4</td>\n",
       "      <td>999-9</td>\n",
       "      <td>10</td>\n",
       "      <td>40</td>\n",
       "      <td>11</td>\n",
       "      <td>...</td>\n",
       "      <td>99437</td>\n",
       "      <td>65655</td>\n",
       "      <td>65456</td>\n",
       "      <td>2</td>\n",
       "      <td>6</td>\n",
       "      <td>1</td>\n",
       "      <td>2</td>\n",
       "      <td>3</td>\n",
       "      <td>2</td>\n",
       "      <td>1</td>\n",
       "    </tr>\n",
       "  </tbody>\n",
       "</table>\n",
       "<p>5 rows × 698 columns</p>\n",
       "</div>"
      ],
      "text/plain": [
       "   con1 D_R  edo  muni  loca  folio   ageb  hr_ini1  min_ini1  hr_ter1  ...  \\\n",
       "0     1       28    41     1      5  098-6        9        34       10  ...   \n",
       "1     2       26    18     1      1  203-A       13        40       14  ...   \n",
       "2     3       15    37    18      4  044-A       12         8       13  ...   \n",
       "3     4       15   109     3      5  078-A       11        33       12  ...   \n",
       "4     5       12    67    16      4  999-9       10        40       11  ...   \n",
       "\n",
       "   Pondi2  Pondi_v  Pondi_h  sexo  edad_1  cond_act  ing_ind  ing_fam  escol  \\\n",
       "0   11032     5469     5490     2       3         2        0        3      2   \n",
       "1   63083    11709    11705     2       5         2        0        8      4   \n",
       "2   31357    13213    13220     1       4         1        3        3      4   \n",
       "3   61769     9125     8828     2       2         1        0        0      5   \n",
       "4   99437    65655    65456     2       6         1        2        3      2   \n",
       "\n",
       "   total2  \n",
       "0       1  \n",
       "1       1  \n",
       "2       1  \n",
       "3       1  \n",
       "4       1  \n",
       "\n",
       "[5 rows x 698 columns]"
      ]
     },
     "execution_count": 2,
     "metadata": {},
     "output_type": "execute_result"
    }
   ],
   "source": [
    "# Leer la base de datos, se agrega el encoding por el texto\n",
    "raw_data = pd.read_csv('enmt_unam.csv', encoding='latin-1')\n",
    "raw_data.head()"
   ]
  },
  {
   "cell_type": "markdown",
   "metadata": {},
   "source": [
    "Seleccionamos las columnas de la variables que nos interesan para responder las preguntas seleccionadas"
   ]
  },
  {
   "cell_type": "code",
   "execution_count": 3,
   "metadata": {},
   "outputs": [
    {
     "data": {
      "text/html": [
       "<div>\n",
       "<style scoped>\n",
       "    .dataframe tbody tr th:only-of-type {\n",
       "        vertical-align: middle;\n",
       "    }\n",
       "\n",
       "    .dataframe tbody tr th {\n",
       "        vertical-align: top;\n",
       "    }\n",
       "\n",
       "    .dataframe thead th {\n",
       "        text-align: right;\n",
       "    }\n",
       "</style>\n",
       "<table border=\"1\" class=\"dataframe\">\n",
       "  <thead>\n",
       "    <tr style=\"text-align: right;\">\n",
       "      <th></th>\n",
       "      <th>Tam_loc</th>\n",
       "      <th>h10_2</th>\n",
       "      <th>h11_1</th>\n",
       "      <th>h14_2n</th>\n",
       "      <th>ing_fam</th>\n",
       "      <th>p16</th>\n",
       "      <th>p17_1</th>\n",
       "      <th>p17_4</th>\n",
       "      <th>h21_1</th>\n",
       "    </tr>\n",
       "  </thead>\n",
       "  <tbody>\n",
       "    <tr>\n",
       "      <th>0</th>\n",
       "      <td>1</td>\n",
       "      <td>2</td>\n",
       "      <td>55</td>\n",
       "      <td>3</td>\n",
       "      <td>3</td>\n",
       "      <td>98</td>\n",
       "      <td>1</td>\n",
       "      <td>1</td>\n",
       "      <td>9</td>\n",
       "    </tr>\n",
       "    <tr>\n",
       "      <th>1</th>\n",
       "      <td>1</td>\n",
       "      <td>2</td>\n",
       "      <td>49</td>\n",
       "      <td>7</td>\n",
       "      <td>8</td>\n",
       "      <td>4</td>\n",
       "      <td>1</td>\n",
       "      <td>2</td>\n",
       "      <td>12</td>\n",
       "    </tr>\n",
       "    <tr>\n",
       "      <th>2</th>\n",
       "      <td>3</td>\n",
       "      <td>2</td>\n",
       "      <td>44</td>\n",
       "      <td>7</td>\n",
       "      <td>3</td>\n",
       "      <td>4</td>\n",
       "      <td>1</td>\n",
       "      <td>1</td>\n",
       "      <td>1</td>\n",
       "    </tr>\n",
       "    <tr>\n",
       "      <th>3</th>\n",
       "      <td>1</td>\n",
       "      <td>1</td>\n",
       "      <td>60</td>\n",
       "      <td>3</td>\n",
       "      <td>0</td>\n",
       "      <td>2</td>\n",
       "      <td>1</td>\n",
       "      <td>2</td>\n",
       "      <td>7</td>\n",
       "    </tr>\n",
       "    <tr>\n",
       "      <th>4</th>\n",
       "      <td>4</td>\n",
       "      <td>2</td>\n",
       "      <td>60</td>\n",
       "      <td>3</td>\n",
       "      <td>3</td>\n",
       "      <td>6</td>\n",
       "      <td>1</td>\n",
       "      <td>2</td>\n",
       "      <td>7</td>\n",
       "    </tr>\n",
       "  </tbody>\n",
       "</table>\n",
       "</div>"
      ],
      "text/plain": [
       "   Tam_loc  h10_2  h11_1  h14_2n  ing_fam  p16  p17_1  p17_4  h21_1\n",
       "0        1      2     55       3        3   98      1      1      9\n",
       "1        1      2     49       7        8    4      1      2     12\n",
       "2        3      2     44       7        3    4      1      1      1\n",
       "3        1      1     60       3        0    2      1      2      7\n",
       "4        4      2     60       3        3    6      1      2      7"
      ]
     },
     "execution_count": 3,
     "metadata": {},
     "output_type": "execute_result"
    }
   ],
   "source": [
    "data = raw_data[['Tam_loc','h10_2','h11_1','h14_2n','ing_fam','p16','p17_1','p17_4','h21_1']]\n",
    "data.head()"
   ]
  },
  {
   "cell_type": "markdown",
   "metadata": {},
   "source": [
    "Renombramos el nombre de las columnas para entender que variables son."
   ]
  },
  {
   "cell_type": "code",
   "execution_count": 4,
   "metadata": {},
   "outputs": [
    {
     "data": {
      "text/html": [
       "<div>\n",
       "<style scoped>\n",
       "    .dataframe tbody tr th:only-of-type {\n",
       "        vertical-align: middle;\n",
       "    }\n",
       "\n",
       "    .dataframe tbody tr th {\n",
       "        vertical-align: top;\n",
       "    }\n",
       "\n",
       "    .dataframe thead th {\n",
       "        text-align: right;\n",
       "    }\n",
       "</style>\n",
       "<table border=\"1\" class=\"dataframe\">\n",
       "  <thead>\n",
       "    <tr style=\"text-align: right;\">\n",
       "      <th></th>\n",
       "      <th>Residencia</th>\n",
       "      <th>Sexo</th>\n",
       "      <th>Edad</th>\n",
       "      <th>Educacion</th>\n",
       "      <th>ing_fam</th>\n",
       "      <th>Transporte</th>\n",
       "      <th>Eficiencia</th>\n",
       "      <th>Seguridad</th>\n",
       "      <th>Ocupación</th>\n",
       "    </tr>\n",
       "  </thead>\n",
       "  <tbody>\n",
       "    <tr>\n",
       "      <th>0</th>\n",
       "      <td>1</td>\n",
       "      <td>2</td>\n",
       "      <td>55</td>\n",
       "      <td>3</td>\n",
       "      <td>3</td>\n",
       "      <td>98</td>\n",
       "      <td>1</td>\n",
       "      <td>1</td>\n",
       "      <td>9</td>\n",
       "    </tr>\n",
       "    <tr>\n",
       "      <th>1</th>\n",
       "      <td>1</td>\n",
       "      <td>2</td>\n",
       "      <td>49</td>\n",
       "      <td>7</td>\n",
       "      <td>8</td>\n",
       "      <td>4</td>\n",
       "      <td>1</td>\n",
       "      <td>2</td>\n",
       "      <td>12</td>\n",
       "    </tr>\n",
       "    <tr>\n",
       "      <th>2</th>\n",
       "      <td>3</td>\n",
       "      <td>2</td>\n",
       "      <td>44</td>\n",
       "      <td>7</td>\n",
       "      <td>3</td>\n",
       "      <td>4</td>\n",
       "      <td>1</td>\n",
       "      <td>1</td>\n",
       "      <td>1</td>\n",
       "    </tr>\n",
       "    <tr>\n",
       "      <th>3</th>\n",
       "      <td>1</td>\n",
       "      <td>1</td>\n",
       "      <td>60</td>\n",
       "      <td>3</td>\n",
       "      <td>0</td>\n",
       "      <td>2</td>\n",
       "      <td>1</td>\n",
       "      <td>2</td>\n",
       "      <td>7</td>\n",
       "    </tr>\n",
       "    <tr>\n",
       "      <th>4</th>\n",
       "      <td>4</td>\n",
       "      <td>2</td>\n",
       "      <td>60</td>\n",
       "      <td>3</td>\n",
       "      <td>3</td>\n",
       "      <td>6</td>\n",
       "      <td>1</td>\n",
       "      <td>2</td>\n",
       "      <td>7</td>\n",
       "    </tr>\n",
       "  </tbody>\n",
       "</table>\n",
       "</div>"
      ],
      "text/plain": [
       "   Residencia  Sexo  Edad  Educacion  ing_fam  Transporte  Eficiencia  \\\n",
       "0           1     2    55          3        3          98           1   \n",
       "1           1     2    49          7        8           4           1   \n",
       "2           3     2    44          7        3           4           1   \n",
       "3           1     1    60          3        0           2           1   \n",
       "4           4     2    60          3        3           6           1   \n",
       "\n",
       "   Seguridad  Ocupación  \n",
       "0          1          9  \n",
       "1          2         12  \n",
       "2          1          1  \n",
       "3          2          7  \n",
       "4          2          7  "
      ]
     },
     "execution_count": 4,
     "metadata": {},
     "output_type": "execute_result"
    }
   ],
   "source": [
    "data = data.rename(columns={'Tam_loc':'Residencia','h10_2':'Sexo', 'h11_1': 'Edad','h14_2n':'Educacion',\n",
    "                            'p16':'Transporte','p17_1':'Eficiencia','p17_4':'Seguridad','h21_1':'Ocupación'})\n",
    "data.head()"
   ]
  },
  {
   "cell_type": "code",
   "execution_count": 5,
   "metadata": {},
   "outputs": [
    {
     "name": "stdout",
     "output_type": "stream",
     "text": [
      "<class 'pandas.core.frame.DataFrame'>\n",
      "RangeIndex: 1191 entries, 0 to 1190\n",
      "Data columns (total 9 columns):\n",
      " #   Column      Non-Null Count  Dtype\n",
      "---  ------      --------------  -----\n",
      " 0   Residencia  1191 non-null   int64\n",
      " 1   Sexo        1191 non-null   int64\n",
      " 2   Edad        1191 non-null   int64\n",
      " 3   Educacion   1191 non-null   int64\n",
      " 4   ing_fam     1191 non-null   int64\n",
      " 5   Transporte  1191 non-null   int64\n",
      " 6   Eficiencia  1191 non-null   int64\n",
      " 7   Seguridad   1191 non-null   int64\n",
      " 8   Ocupación   1191 non-null   int64\n",
      "dtypes: int64(9)\n",
      "memory usage: 83.9 KB\n"
     ]
    }
   ],
   "source": [
    "data.info()"
   ]
  },
  {
   "cell_type": "markdown",
   "metadata": {},
   "source": [
    "Columna 1: Tam_loc"
   ]
  },
  {
   "cell_type": "code",
   "execution_count": 6,
   "metadata": {},
   "outputs": [
    {
     "data": {
      "text/plain": [
       "array([1, 3, 4, 2])"
      ]
     },
     "execution_count": 6,
     "metadata": {},
     "output_type": "execute_result"
    }
   ],
   "source": [
    "data['Residencia'].unique()"
   ]
  },
  {
   "cell_type": "code",
   "execution_count": 8,
   "metadata": {},
   "outputs": [
    {
     "data": {
      "text/plain": [
       "0        grande\n",
       "1        grande\n",
       "2       pequeño\n",
       "3        grande\n",
       "4       pequeño\n",
       "         ...   \n",
       "1186     grande\n",
       "1187     grande\n",
       "1188     grande\n",
       "1189    pequeño\n",
       "1190     grande\n",
       "Name: Residencia, Length: 1191, dtype: object"
      ]
     },
     "execution_count": 8,
     "metadata": {},
     "output_type": "execute_result"
    }
   ],
   "source": [
    "info_Tam_loc = {1: 'grande', 2: 'grande', 3: 'pequeño', 4: 'pequeño'}\n",
    "\n",
    "info_Tam_loc.get(1)\n",
    "\n",
    "Tam_loc_renamed = [info_Tam_loc.get(x) for x in data['Residencia'].values]\n",
    "\n",
    "data['Residencia'] = Tam_loc_renamed\n",
    "\n",
    "data['Residencia']"
   ]
  },
  {
   "cell_type": "markdown",
   "metadata": {},
   "source": [
    "Columna 2: Sexo"
   ]
  },
  {
   "cell_type": "code",
   "execution_count": 9,
   "metadata": {},
   "outputs": [
    {
     "data": {
      "text/plain": [
       "0        mujer\n",
       "1        mujer\n",
       "2        mujer\n",
       "3       hombre\n",
       "4        mujer\n",
       "         ...  \n",
       "1186     mujer\n",
       "1187     mujer\n",
       "1188     mujer\n",
       "1189     mujer\n",
       "1190     mujer\n",
       "Name: Sexo, Length: 1191, dtype: object"
      ]
     },
     "execution_count": 9,
     "metadata": {},
     "output_type": "execute_result"
    }
   ],
   "source": [
    "info_Sexo = {1: 'hombre', 2: 'mujer'}\n",
    "\n",
    "info_Sexo_renamed = [info_Sexo.get(x) for x in data['Sexo'].values]\n",
    "\n",
    "data['Sexo'] = info_Sexo_renamed\n",
    "\n",
    "data['Sexo']"
   ]
  },
  {
   "cell_type": "markdown",
   "metadata": {},
   "source": [
    "Columna 3: Edad"
   ]
  },
  {
   "cell_type": "code",
   "execution_count": 10,
   "metadata": {},
   "outputs": [
    {
     "data": {
      "text/plain": [
       "array([55, 49, 44, 60, 29, 65, 56, 64, 38, 70, 51, 61, 27, 39, 40, 37, 30,\n",
       "       31, 45, 62, 50, 36, 25, 42, 48, 32, 21, 53, 57, 80, 22, 46, 23, 43,\n",
       "       26, 28, 63, 41, 67, 24, 35, 68, 54, 77, 58, 52, 78, 75, 34, 47, 59,\n",
       "       33, 74, 66, 72, 73, 69, 18, 71, 76, 84, 20, 90, 79, 83, 87, 89, 82,\n",
       "       81,  0, 19,  3, 97, 85])"
      ]
     },
     "execution_count": 10,
     "metadata": {},
     "output_type": "execute_result"
    }
   ],
   "source": [
    "data['Edad'].unique()"
   ]
  },
  {
   "cell_type": "code",
   "execution_count": 11,
   "metadata": {},
   "outputs": [
    {
     "data": {
      "text/plain": [
       "0       adulto_mayor\n",
       "1       adulto_mayor\n",
       "2       adulto_mayor\n",
       "3       adulto_mayor\n",
       "4       adulto_mayor\n",
       "            ...     \n",
       "1186    adulto_mayor\n",
       "1187    adulto_joven\n",
       "1188    adulto_mayor\n",
       "1189    adulto_mayor\n",
       "1190    adulto_mayor\n",
       "Name: Edad, Length: 1191, dtype: object"
      ]
     },
     "execution_count": 11,
     "metadata": {},
     "output_type": "execute_result"
    }
   ],
   "source": [
    "#info_Edad = {1: 'hombre', 2: 'mujer'}\n",
    "\n",
    "info_Edad_renamed = []\n",
    "\n",
    "for x in data['Edad'].values:\n",
    "    if x < 18:\n",
    "        info_Edad_renamed.append('joven')\n",
    "        \n",
    "    elif x > 18 and x < 35:\n",
    "        info_Edad_renamed.append('adulto_joven')\n",
    "        \n",
    "    else:\n",
    "        info_Edad_renamed.append('adulto_mayor')\n",
    "\n",
    "data['Edad'] = info_Edad_renamed\n",
    "\n",
    "data['Edad']"
   ]
  },
  {
   "cell_type": "code",
   "execution_count": 12,
   "metadata": {},
   "outputs": [
    {
     "data": {
      "text/html": [
       "<div>\n",
       "<style scoped>\n",
       "    .dataframe tbody tr th:only-of-type {\n",
       "        vertical-align: middle;\n",
       "    }\n",
       "\n",
       "    .dataframe tbody tr th {\n",
       "        vertical-align: top;\n",
       "    }\n",
       "\n",
       "    .dataframe thead th {\n",
       "        text-align: right;\n",
       "    }\n",
       "</style>\n",
       "<table border=\"1\" class=\"dataframe\">\n",
       "  <thead>\n",
       "    <tr style=\"text-align: right;\">\n",
       "      <th></th>\n",
       "      <th>Residencia</th>\n",
       "      <th>Sexo</th>\n",
       "      <th>Edad</th>\n",
       "      <th>Educacion</th>\n",
       "      <th>ing_fam</th>\n",
       "      <th>Transporte</th>\n",
       "      <th>Eficiencia</th>\n",
       "      <th>Seguridad</th>\n",
       "      <th>Ocupación</th>\n",
       "    </tr>\n",
       "  </thead>\n",
       "  <tbody>\n",
       "    <tr>\n",
       "      <th>0</th>\n",
       "      <td>grande</td>\n",
       "      <td>mujer</td>\n",
       "      <td>adulto_mayor</td>\n",
       "      <td>3</td>\n",
       "      <td>3</td>\n",
       "      <td>98</td>\n",
       "      <td>1</td>\n",
       "      <td>1</td>\n",
       "      <td>9</td>\n",
       "    </tr>\n",
       "    <tr>\n",
       "      <th>1</th>\n",
       "      <td>grande</td>\n",
       "      <td>mujer</td>\n",
       "      <td>adulto_mayor</td>\n",
       "      <td>7</td>\n",
       "      <td>8</td>\n",
       "      <td>4</td>\n",
       "      <td>1</td>\n",
       "      <td>2</td>\n",
       "      <td>12</td>\n",
       "    </tr>\n",
       "    <tr>\n",
       "      <th>2</th>\n",
       "      <td>pequeño</td>\n",
       "      <td>mujer</td>\n",
       "      <td>adulto_mayor</td>\n",
       "      <td>7</td>\n",
       "      <td>3</td>\n",
       "      <td>4</td>\n",
       "      <td>1</td>\n",
       "      <td>1</td>\n",
       "      <td>1</td>\n",
       "    </tr>\n",
       "    <tr>\n",
       "      <th>3</th>\n",
       "      <td>grande</td>\n",
       "      <td>hombre</td>\n",
       "      <td>adulto_mayor</td>\n",
       "      <td>3</td>\n",
       "      <td>0</td>\n",
       "      <td>2</td>\n",
       "      <td>1</td>\n",
       "      <td>2</td>\n",
       "      <td>7</td>\n",
       "    </tr>\n",
       "    <tr>\n",
       "      <th>4</th>\n",
       "      <td>pequeño</td>\n",
       "      <td>mujer</td>\n",
       "      <td>adulto_mayor</td>\n",
       "      <td>3</td>\n",
       "      <td>3</td>\n",
       "      <td>6</td>\n",
       "      <td>1</td>\n",
       "      <td>2</td>\n",
       "      <td>7</td>\n",
       "    </tr>\n",
       "    <tr>\n",
       "      <th>...</th>\n",
       "      <td>...</td>\n",
       "      <td>...</td>\n",
       "      <td>...</td>\n",
       "      <td>...</td>\n",
       "      <td>...</td>\n",
       "      <td>...</td>\n",
       "      <td>...</td>\n",
       "      <td>...</td>\n",
       "      <td>...</td>\n",
       "    </tr>\n",
       "    <tr>\n",
       "      <th>1186</th>\n",
       "      <td>grande</td>\n",
       "      <td>mujer</td>\n",
       "      <td>adulto_mayor</td>\n",
       "      <td>4</td>\n",
       "      <td>7</td>\n",
       "      <td>98</td>\n",
       "      <td>2</td>\n",
       "      <td>2</td>\n",
       "      <td>14</td>\n",
       "    </tr>\n",
       "    <tr>\n",
       "      <th>1187</th>\n",
       "      <td>grande</td>\n",
       "      <td>mujer</td>\n",
       "      <td>adulto_joven</td>\n",
       "      <td>7</td>\n",
       "      <td>8</td>\n",
       "      <td>9</td>\n",
       "      <td>2</td>\n",
       "      <td>2</td>\n",
       "      <td>6</td>\n",
       "    </tr>\n",
       "    <tr>\n",
       "      <th>1188</th>\n",
       "      <td>grande</td>\n",
       "      <td>mujer</td>\n",
       "      <td>adulto_mayor</td>\n",
       "      <td>4</td>\n",
       "      <td>8</td>\n",
       "      <td>4</td>\n",
       "      <td>2</td>\n",
       "      <td>2</td>\n",
       "      <td>2</td>\n",
       "    </tr>\n",
       "    <tr>\n",
       "      <th>1189</th>\n",
       "      <td>pequeño</td>\n",
       "      <td>mujer</td>\n",
       "      <td>adulto_mayor</td>\n",
       "      <td>3</td>\n",
       "      <td>5</td>\n",
       "      <td>9</td>\n",
       "      <td>2</td>\n",
       "      <td>1</td>\n",
       "      <td>5</td>\n",
       "    </tr>\n",
       "    <tr>\n",
       "      <th>1190</th>\n",
       "      <td>grande</td>\n",
       "      <td>mujer</td>\n",
       "      <td>adulto_mayor</td>\n",
       "      <td>4</td>\n",
       "      <td>8</td>\n",
       "      <td>2</td>\n",
       "      <td>2</td>\n",
       "      <td>1</td>\n",
       "      <td>2</td>\n",
       "    </tr>\n",
       "  </tbody>\n",
       "</table>\n",
       "<p>1191 rows × 9 columns</p>\n",
       "</div>"
      ],
      "text/plain": [
       "     Residencia    Sexo          Edad  Educacion  ing_fam  Transporte  \\\n",
       "0        grande   mujer  adulto_mayor          3        3          98   \n",
       "1        grande   mujer  adulto_mayor          7        8           4   \n",
       "2       pequeño   mujer  adulto_mayor          7        3           4   \n",
       "3        grande  hombre  adulto_mayor          3        0           2   \n",
       "4       pequeño   mujer  adulto_mayor          3        3           6   \n",
       "...         ...     ...           ...        ...      ...         ...   \n",
       "1186     grande   mujer  adulto_mayor          4        7          98   \n",
       "1187     grande   mujer  adulto_joven          7        8           9   \n",
       "1188     grande   mujer  adulto_mayor          4        8           4   \n",
       "1189    pequeño   mujer  adulto_mayor          3        5           9   \n",
       "1190     grande   mujer  adulto_mayor          4        8           2   \n",
       "\n",
       "      Eficiencia  Seguridad  Ocupación  \n",
       "0              1          1          9  \n",
       "1              1          2         12  \n",
       "2              1          1          1  \n",
       "3              1          2          7  \n",
       "4              1          2          7  \n",
       "...          ...        ...        ...  \n",
       "1186           2          2         14  \n",
       "1187           2          2          6  \n",
       "1188           2          2          2  \n",
       "1189           2          1          5  \n",
       "1190           2          1          2  \n",
       "\n",
       "[1191 rows x 9 columns]"
      ]
     },
     "execution_count": 12,
     "metadata": {},
     "output_type": "execute_result"
    }
   ],
   "source": [
    "data"
   ]
  },
  {
   "cell_type": "markdown",
   "metadata": {},
   "source": [
    "Columna 4: Educación"
   ]
  },
  {
   "cell_type": "code",
   "execution_count": 13,
   "metadata": {},
   "outputs": [
    {
     "data": {
      "text/plain": [
       "array([ 3,  7,  6, -1,  4,  8,  9,  1, 99,  5,  2, 10, 11, 98])"
      ]
     },
     "execution_count": 13,
     "metadata": {},
     "output_type": "execute_result"
    }
   ],
   "source": [
    "#Se observan los valores únicos de educación\n",
    "data.Educacion.unique()"
   ]
  },
  {
   "cell_type": "code",
   "execution_count": 14,
   "metadata": {},
   "outputs": [],
   "source": [
    "#Se reemplazan los valores -1, 98, 99 por la moda de la columna, ya que estos son tomados como valores faltantes.\n",
    "moda = data['Educacion'].mode()\n",
    "valores_inadecuados = [-1, 98, 99]\n",
    "\n",
    "for i, value in enumerate(data.Educacion):\n",
    "    if value in valores_inadecuados:\n",
    "        data.Educacion[i] = moda"
   ]
  },
  {
   "cell_type": "code",
   "execution_count": 15,
   "metadata": {},
   "outputs": [
    {
     "name": "stdout",
     "output_type": "stream",
     "text": [
      "4     482\n",
      "3     243\n",
      "6     185\n",
      "5      71\n",
      "9      70\n",
      "7      60\n",
      "1      45\n",
      "2      12\n",
      "8       9\n",
      "10      8\n",
      "11      6\n",
      "Name: Educacion, dtype: int64\n"
     ]
    }
   ],
   "source": [
    "#Se obtienen las frecuencias de los valores únicos para así tener una idea de como reducir la cardinalidad de la variable.\n",
    "frecuencias = data['Educacion'].value_counts()\n",
    "\n",
    "print(frecuencias)"
   ]
  },
  {
   "cell_type": "code",
   "execution_count": 16,
   "metadata": {},
   "outputs": [
    {
     "data": {
      "image/png": "[encoded data removed]",
      "text/plain": [
       "<Figure size 640x480 with 1 Axes>"
      ]
     },
     "metadata": {},
     "output_type": "display_data"
    }
   ],
   "source": [
    "# Se puede visualizar de forma más clara con un gráfico de barras\n",
    "plt.bar(frecuencias.index, frecuencias.values)\n",
    "plt.xlabel('Valores')\n",
    "plt.ylabel('Frecuencia')\n",
    "plt.title('Frecuencia de Valores')\n",
    "plt.show()"
   ]
  },
  {
   "cell_type": "code",
   "execution_count": 17,
   "metadata": {},
   "outputs": [],
   "source": [
    "# Se agrupan los valores que representen un nivel de estudios de secundaria técnica con secundaria, los de preparatoria técnica\n",
    "# y normal con preparatoria, y maestría o doctorado y carrera secretarial con primaria junto con profesional\n",
    "valores_raros1 = [10, 11]\n",
    "valores_raros2 = [7, 8]\n",
    "\n",
    "for i, value in enumerate(data.Educacion):\n",
    "    if value in valores_raros1:\n",
    "        data.Educacion[i] = 9\n",
    "    elif value in valores_raros2:\n",
    "        data.Educacion[i] = 6\n",
    "    elif value == 5:\n",
    "        data.Educacion[i] = 4"
   ]
  },
  {
   "cell_type": "code",
   "execution_count": 18,
   "metadata": {},
   "outputs": [],
   "source": [
    "#Se renombram los seis niveles de educación\n",
    "info_Educacion = {1:'ninguno', 2:'preescolar', 3:'primaria', 4:'secundaria', 6:'preparatoria', 9:'profesional'}\n",
    "n_Educacion = [info_Educacion.get(x) for x in data['Educacion'].values]\n",
    "data['Educacion'] = n_Educacion"
   ]
  },
  {
   "cell_type": "markdown",
   "metadata": {},
   "source": [
    "Columna 5: Ingreso Familiar"
   ]
  },
  {
   "cell_type": "code",
   "execution_count": 19,
   "metadata": {},
   "outputs": [
    {
     "data": {
      "text/plain": [
       "array([3, 8, 0, 6, 5, 4, 7, 2])"
      ]
     },
     "execution_count": 19,
     "metadata": {},
     "output_type": "execute_result"
    }
   ],
   "source": [
    "#Se revisan valores únicos de la columna de ingreso familiar\n",
    "data.ing_fam.unique()"
   ]
  },
  {
   "cell_type": "code",
   "execution_count": 20,
   "metadata": {},
   "outputs": [
    {
     "data": {
      "image/png": "[encoded data removed]",
      "text/plain": [
       "<Figure size 640x480 with 1 Axes>"
      ]
     },
     "metadata": {},
     "output_type": "display_data"
    }
   ],
   "source": [
    "#Se obtienen las frecuencias y realizamos el gráfico de barras\n",
    "#Debido a la distribución simétrica de los datos, el ingreso se divide en alto y bajo\n",
    "frecuencias = data['ing_fam'].value_counts()\n",
    "\n",
    "plt.bar(frecuencias.index, frecuencias.values)\n",
    "plt.xlabel('Valores')\n",
    "plt.ylabel('Frecuencia')\n",
    "plt.title('Frecuencia de Valores')\n",
    "plt.show()"
   ]
  },
  {
   "cell_type": "code",
   "execution_count": 21,
   "metadata": {},
   "outputs": [
    {
     "data": {
      "text/html": [
       "<div>\n",
       "<style scoped>\n",
       "    .dataframe tbody tr th:only-of-type {\n",
       "        vertical-align: middle;\n",
       "    }\n",
       "\n",
       "    .dataframe tbody tr th {\n",
       "        vertical-align: top;\n",
       "    }\n",
       "\n",
       "    .dataframe thead th {\n",
       "        text-align: right;\n",
       "    }\n",
       "</style>\n",
       "<table border=\"1\" class=\"dataframe\">\n",
       "  <thead>\n",
       "    <tr style=\"text-align: right;\">\n",
       "      <th></th>\n",
       "      <th>Residencia</th>\n",
       "      <th>Sexo</th>\n",
       "      <th>Edad</th>\n",
       "      <th>Educacion</th>\n",
       "      <th>ing_fam</th>\n",
       "      <th>Transporte</th>\n",
       "      <th>Eficiencia</th>\n",
       "      <th>Seguridad</th>\n",
       "      <th>Ocupación</th>\n",
       "    </tr>\n",
       "  </thead>\n",
       "  <tbody>\n",
       "    <tr>\n",
       "      <th>0</th>\n",
       "      <td>grande</td>\n",
       "      <td>mujer</td>\n",
       "      <td>adulto_mayor</td>\n",
       "      <td>primaria</td>\n",
       "      <td>bajo ingreso</td>\n",
       "      <td>98</td>\n",
       "      <td>1</td>\n",
       "      <td>1</td>\n",
       "      <td>9</td>\n",
       "    </tr>\n",
       "    <tr>\n",
       "      <th>1</th>\n",
       "      <td>grande</td>\n",
       "      <td>mujer</td>\n",
       "      <td>adulto_mayor</td>\n",
       "      <td>preparatoria</td>\n",
       "      <td>alto ingreso</td>\n",
       "      <td>4</td>\n",
       "      <td>1</td>\n",
       "      <td>2</td>\n",
       "      <td>12</td>\n",
       "    </tr>\n",
       "    <tr>\n",
       "      <th>2</th>\n",
       "      <td>pequeño</td>\n",
       "      <td>mujer</td>\n",
       "      <td>adulto_mayor</td>\n",
       "      <td>preparatoria</td>\n",
       "      <td>bajo ingreso</td>\n",
       "      <td>4</td>\n",
       "      <td>1</td>\n",
       "      <td>1</td>\n",
       "      <td>1</td>\n",
       "    </tr>\n",
       "    <tr>\n",
       "      <th>3</th>\n",
       "      <td>grande</td>\n",
       "      <td>hombre</td>\n",
       "      <td>adulto_mayor</td>\n",
       "      <td>primaria</td>\n",
       "      <td>bajo ingreso</td>\n",
       "      <td>2</td>\n",
       "      <td>1</td>\n",
       "      <td>2</td>\n",
       "      <td>7</td>\n",
       "    </tr>\n",
       "    <tr>\n",
       "      <th>4</th>\n",
       "      <td>pequeño</td>\n",
       "      <td>mujer</td>\n",
       "      <td>adulto_mayor</td>\n",
       "      <td>primaria</td>\n",
       "      <td>bajo ingreso</td>\n",
       "      <td>6</td>\n",
       "      <td>1</td>\n",
       "      <td>2</td>\n",
       "      <td>7</td>\n",
       "    </tr>\n",
       "  </tbody>\n",
       "</table>\n",
       "</div>"
      ],
      "text/plain": [
       "  Residencia    Sexo          Edad     Educacion       ing_fam  Transporte  \\\n",
       "0     grande   mujer  adulto_mayor      primaria  bajo ingreso          98   \n",
       "1     grande   mujer  adulto_mayor  preparatoria  alto ingreso           4   \n",
       "2    pequeño   mujer  adulto_mayor  preparatoria  bajo ingreso           4   \n",
       "3     grande  hombre  adulto_mayor      primaria  bajo ingreso           2   \n",
       "4    pequeño   mujer  adulto_mayor      primaria  bajo ingreso           6   \n",
       "\n",
       "   Eficiencia  Seguridad  Ocupación  \n",
       "0           1          1          9  \n",
       "1           1          2         12  \n",
       "2           1          1          1  \n",
       "3           1          2          7  \n",
       "4           1          2          7  "
      ]
     },
     "execution_count": 21,
     "metadata": {},
     "output_type": "execute_result"
    }
   ],
   "source": [
    "#Se renoombran los valores, siendo el 6142 pesos el valor que divide los bajos y altos ingresos\n",
    "info_ing_fam = {0:'bajo ingreso', 2:'bajo ingreso', 3:'bajo ingreso', 4:'bajo ingreso', 5:'alto ingreso', 6:'alto ingreso', \n",
    "                  7:'alto ingreso', 8:'alto ingreso'}\n",
    "n_ing_fam = [info_ing_fam.get(x) for x in data['ing_fam'].values]\n",
    "data['ing_fam'] = n_ing_fam\n",
    "data.head()"
   ]
  },
  {
   "cell_type": "markdown",
   "metadata": {},
   "source": [
    "Columna 6: Transporte"
   ]
  },
  {
   "cell_type": "code",
   "execution_count": 22,
   "metadata": {},
   "outputs": [
    {
     "data": {
      "text/plain": [
       "array([98,  4,  2,  6,  9,  5, 13,  7, 99,  8, 12, 14, 18,  3, 23, 19,  1,\n",
       "       15])"
      ]
     },
     "execution_count": 22,
     "metadata": {},
     "output_type": "execute_result"
    }
   ],
   "source": [
    "#Utilizamos unique() para observar que transporte cuenta con 18 variables únicas\n",
    "data.Transporte.unique()"
   ]
  },
  {
   "cell_type": "code",
   "execution_count": 23,
   "metadata": {},
   "outputs": [
    {
     "data": {
      "text/plain": [
       "0"
      ]
     },
     "execution_count": 23,
     "metadata": {},
     "output_type": "execute_result"
    }
   ],
   "source": [
    "#Verificamos que la columna no tenga valores nulls\n",
    "pd.isna(data['Transporte']).sum()"
   ]
  },
  {
   "cell_type": "code",
   "execution_count": 24,
   "metadata": {},
   "outputs": [],
   "source": [
    "#Se reemplazan los valores 20, 23, 98, 99 por la moda de la columna, ya que estos son valores que no nos sirven.\n",
    "moda3 = data['Transporte'].mode()\n",
    "valores_inadecuados3 = [98, 99, 20, 23]\n",
    "\n",
    "for i, value in enumerate(data.Transporte):\n",
    "    if value in valores_inadecuados3:\n",
    "        data.at[i, 'Transporte'] = moda3"
   ]
  },
  {
   "cell_type": "code",
   "execution_count": 25,
   "metadata": {},
   "outputs": [
    {
     "data": {
      "text/plain": [
       "array([ 4,  2,  6,  9,  5, 13,  7,  8, 12, 14, 18,  3, 19,  1, 15])"
      ]
     },
     "execution_count": 25,
     "metadata": {},
     "output_type": "execute_result"
    }
   ],
   "source": [
    "#Verificamos que los valores se hayan reemplazados\n",
    "data.Transporte.unique()"
   ]
  },
  {
   "cell_type": "code",
   "execution_count": 26,
   "metadata": {},
   "outputs": [
    {
     "name": "stdout",
     "output_type": "stream",
     "text": [
      "4     367\n",
      "9     217\n",
      "5     206\n",
      "6     187\n",
      "2      82\n",
      "14     44\n",
      "13     31\n",
      "7      17\n",
      "12     15\n",
      "8      13\n",
      "3       4\n",
      "1       3\n",
      "18      2\n",
      "19      2\n",
      "15      1\n",
      "Name: Transporte, dtype: int64\n"
     ]
    }
   ],
   "source": [
    "#Utilizamos la función de value_counts() para contar cuantos valores tenemos de cada valor único para así reducir la cardinalidad de la variable\n",
    "frecuence = data['Transporte'].value_counts()\n",
    "\n",
    "print(frecuence)"
   ]
  },
  {
   "cell_type": "code",
   "execution_count": 27,
   "metadata": {},
   "outputs": [
    {
     "data": {
      "image/png": "[encoded data removed]",
      "text/plain": [
       "<Figure size 640x480 with 1 Axes>"
      ]
     },
     "metadata": {},
     "output_type": "display_data"
    }
   ],
   "source": [
    "#Generamos un histograma para verlo de forma más visual\n",
    "plt.bar(frecuence.index, frecuence.values)\n",
    "plt.xlabel('Valores')\n",
    "plt.ylabel('Frecuencia')\n",
    "plt.title('Frecuencia de Valores')\n",
    "plt.show()"
   ]
  },
  {
   "cell_type": "code",
   "execution_count": 28,
   "metadata": {},
   "outputs": [
    {
     "data": {
      "text/html": [
       "<div>\n",
       "<style scoped>\n",
       "    .dataframe tbody tr th:only-of-type {\n",
       "        vertical-align: middle;\n",
       "    }\n",
       "\n",
       "    .dataframe tbody tr th {\n",
       "        vertical-align: top;\n",
       "    }\n",
       "\n",
       "    .dataframe thead th {\n",
       "        text-align: right;\n",
       "    }\n",
       "</style>\n",
       "<table border=\"1\" class=\"dataframe\">\n",
       "  <thead>\n",
       "    <tr style=\"text-align: right;\">\n",
       "      <th></th>\n",
       "      <th>Residencia</th>\n",
       "      <th>Sexo</th>\n",
       "      <th>Edad</th>\n",
       "      <th>Educacion</th>\n",
       "      <th>ing_fam</th>\n",
       "      <th>Transporte</th>\n",
       "      <th>Eficiencia</th>\n",
       "      <th>Seguridad</th>\n",
       "      <th>Ocupación</th>\n",
       "    </tr>\n",
       "  </thead>\n",
       "  <tbody>\n",
       "    <tr>\n",
       "      <th>0</th>\n",
       "      <td>grande</td>\n",
       "      <td>mujer</td>\n",
       "      <td>adulto_mayor</td>\n",
       "      <td>primaria</td>\n",
       "      <td>bajo ingreso</td>\n",
       "      <td>Automóvil</td>\n",
       "      <td>1</td>\n",
       "      <td>1</td>\n",
       "      <td>9</td>\n",
       "    </tr>\n",
       "    <tr>\n",
       "      <th>1</th>\n",
       "      <td>grande</td>\n",
       "      <td>mujer</td>\n",
       "      <td>adulto_mayor</td>\n",
       "      <td>preparatoria</td>\n",
       "      <td>alto ingreso</td>\n",
       "      <td>Automóvil</td>\n",
       "      <td>1</td>\n",
       "      <td>2</td>\n",
       "      <td>12</td>\n",
       "    </tr>\n",
       "    <tr>\n",
       "      <th>2</th>\n",
       "      <td>pequeño</td>\n",
       "      <td>mujer</td>\n",
       "      <td>adulto_mayor</td>\n",
       "      <td>preparatoria</td>\n",
       "      <td>bajo ingreso</td>\n",
       "      <td>Automóvil</td>\n",
       "      <td>1</td>\n",
       "      <td>1</td>\n",
       "      <td>1</td>\n",
       "    </tr>\n",
       "    <tr>\n",
       "      <th>3</th>\n",
       "      <td>grande</td>\n",
       "      <td>hombre</td>\n",
       "      <td>adulto_mayor</td>\n",
       "      <td>primaria</td>\n",
       "      <td>bajo ingreso</td>\n",
       "      <td>Tren urbano (Metro)</td>\n",
       "      <td>1</td>\n",
       "      <td>2</td>\n",
       "      <td>7</td>\n",
       "    </tr>\n",
       "    <tr>\n",
       "      <th>4</th>\n",
       "      <td>pequeño</td>\n",
       "      <td>mujer</td>\n",
       "      <td>adulto_mayor</td>\n",
       "      <td>primaria</td>\n",
       "      <td>bajo ingreso</td>\n",
       "      <td>Colectivo (Combi)</td>\n",
       "      <td>1</td>\n",
       "      <td>2</td>\n",
       "      <td>7</td>\n",
       "    </tr>\n",
       "  </tbody>\n",
       "</table>\n",
       "</div>"
      ],
      "text/plain": [
       "  Residencia    Sexo          Edad     Educacion       ing_fam  \\\n",
       "0     grande   mujer  adulto_mayor      primaria  bajo ingreso   \n",
       "1     grande   mujer  adulto_mayor  preparatoria  alto ingreso   \n",
       "2    pequeño   mujer  adulto_mayor  preparatoria  bajo ingreso   \n",
       "3     grande  hombre  adulto_mayor      primaria  bajo ingreso   \n",
       "4    pequeño   mujer  adulto_mayor      primaria  bajo ingreso   \n",
       "\n",
       "            Transporte  Eficiencia  Seguridad  Ocupación  \n",
       "0            Automóvil           1          1          9  \n",
       "1            Automóvil           1          2         12  \n",
       "2            Automóvil           1          1          1  \n",
       "3  Tren urbano (Metro)           1          2          7  \n",
       "4    Colectivo (Combi)           1          2          7  "
      ]
     },
     "execution_count": 28,
     "metadata": {},
     "output_type": "execute_result"
    }
   ],
   "source": [
    "#Se genera un diccionario y se renombran los 18 diferentes medios de transporte que se encuentran en el dataset\n",
    "info_Transporte = {1:'Tren', 2:'Tren urbano (Metro)', 3:'Transporte eléctrico', 4:'Automóvil', 5:'Camión', 6:'Colectivo (Combi)',\n",
    "                  7:'Autobús foráneo', 8:'BRT', 9:'Taxi', 12:'Motocicleta', 13:'Mototaxi', 14:'Bicicleta',\n",
    "                  15:'Patineta', 18:'Animal', 19:'Avión'}\n",
    "n_Transporte = [info_Transporte.get(x) for x in data['Transporte'].values]\n",
    "data['Transporte'] = n_Transporte\n",
    "data.head()"
   ]
  },
  {
   "cell_type": "markdown",
   "metadata": {},
   "source": [
    "Columna 7: Eficiencia"
   ]
  },
  {
   "cell_type": "code",
   "execution_count": 29,
   "metadata": {},
   "outputs": [
    {
     "data": {
      "text/plain": [
       "array([1, 2])"
      ]
     },
     "execution_count": 29,
     "metadata": {},
     "output_type": "execute_result"
    }
   ],
   "source": [
    "#Se observa que en eficiencia solo se tienen dos valores únicos, siendo 1 igual a eficiente y 2 a ineficiente\n",
    "data.Eficiencia.unique()"
   ]
  },
  {
   "cell_type": "code",
   "execution_count": 30,
   "metadata": {},
   "outputs": [
    {
     "data": {
      "text/html": [
       "<div>\n",
       "<style scoped>\n",
       "    .dataframe tbody tr th:only-of-type {\n",
       "        vertical-align: middle;\n",
       "    }\n",
       "\n",
       "    .dataframe tbody tr th {\n",
       "        vertical-align: top;\n",
       "    }\n",
       "\n",
       "    .dataframe thead th {\n",
       "        text-align: right;\n",
       "    }\n",
       "</style>\n",
       "<table border=\"1\" class=\"dataframe\">\n",
       "  <thead>\n",
       "    <tr style=\"text-align: right;\">\n",
       "      <th></th>\n",
       "      <th>Residencia</th>\n",
       "      <th>Sexo</th>\n",
       "      <th>Edad</th>\n",
       "      <th>Educacion</th>\n",
       "      <th>ing_fam</th>\n",
       "      <th>Transporte</th>\n",
       "      <th>Eficiencia</th>\n",
       "      <th>Seguridad</th>\n",
       "      <th>Ocupación</th>\n",
       "    </tr>\n",
       "  </thead>\n",
       "  <tbody>\n",
       "    <tr>\n",
       "      <th>0</th>\n",
       "      <td>grande</td>\n",
       "      <td>mujer</td>\n",
       "      <td>adulto_mayor</td>\n",
       "      <td>primaria</td>\n",
       "      <td>bajo ingreso</td>\n",
       "      <td>Automóvil</td>\n",
       "      <td>eficiente</td>\n",
       "      <td>1</td>\n",
       "      <td>9</td>\n",
       "    </tr>\n",
       "    <tr>\n",
       "      <th>1</th>\n",
       "      <td>grande</td>\n",
       "      <td>mujer</td>\n",
       "      <td>adulto_mayor</td>\n",
       "      <td>preparatoria</td>\n",
       "      <td>alto ingreso</td>\n",
       "      <td>Automóvil</td>\n",
       "      <td>eficiente</td>\n",
       "      <td>2</td>\n",
       "      <td>12</td>\n",
       "    </tr>\n",
       "    <tr>\n",
       "      <th>2</th>\n",
       "      <td>pequeño</td>\n",
       "      <td>mujer</td>\n",
       "      <td>adulto_mayor</td>\n",
       "      <td>preparatoria</td>\n",
       "      <td>bajo ingreso</td>\n",
       "      <td>Automóvil</td>\n",
       "      <td>eficiente</td>\n",
       "      <td>1</td>\n",
       "      <td>1</td>\n",
       "    </tr>\n",
       "    <tr>\n",
       "      <th>3</th>\n",
       "      <td>grande</td>\n",
       "      <td>hombre</td>\n",
       "      <td>adulto_mayor</td>\n",
       "      <td>primaria</td>\n",
       "      <td>bajo ingreso</td>\n",
       "      <td>Tren urbano (Metro)</td>\n",
       "      <td>eficiente</td>\n",
       "      <td>2</td>\n",
       "      <td>7</td>\n",
       "    </tr>\n",
       "    <tr>\n",
       "      <th>4</th>\n",
       "      <td>pequeño</td>\n",
       "      <td>mujer</td>\n",
       "      <td>adulto_mayor</td>\n",
       "      <td>primaria</td>\n",
       "      <td>bajo ingreso</td>\n",
       "      <td>Colectivo (Combi)</td>\n",
       "      <td>eficiente</td>\n",
       "      <td>2</td>\n",
       "      <td>7</td>\n",
       "    </tr>\n",
       "  </tbody>\n",
       "</table>\n",
       "</div>"
      ],
      "text/plain": [
       "  Residencia    Sexo          Edad     Educacion       ing_fam  \\\n",
       "0     grande   mujer  adulto_mayor      primaria  bajo ingreso   \n",
       "1     grande   mujer  adulto_mayor  preparatoria  alto ingreso   \n",
       "2    pequeño   mujer  adulto_mayor  preparatoria  bajo ingreso   \n",
       "3     grande  hombre  adulto_mayor      primaria  bajo ingreso   \n",
       "4    pequeño   mujer  adulto_mayor      primaria  bajo ingreso   \n",
       "\n",
       "            Transporte Eficiencia  Seguridad  Ocupación  \n",
       "0            Automóvil  eficiente          1          9  \n",
       "1            Automóvil  eficiente          2         12  \n",
       "2            Automóvil  eficiente          1          1  \n",
       "3  Tren urbano (Metro)  eficiente          2          7  \n",
       "4    Colectivo (Combi)  eficiente          2          7  "
      ]
     },
     "execution_count": 30,
     "metadata": {},
     "output_type": "execute_result"
    }
   ],
   "source": [
    "#Se renombran los valores\n",
    "info_Eficiencia = {1:'eficiente', 2:'ineficiente'}\n",
    "n_Eficiencia = [info_Eficiencia.get(x) for x in data['Eficiencia'].values]\n",
    "data['Eficiencia'] = n_Eficiencia\n",
    "data.head()"
   ]
  },
  {
   "cell_type": "markdown",
   "metadata": {},
   "source": [
    "Columna 8: Seguridad"
   ]
  },
  {
   "cell_type": "code",
   "execution_count": 31,
   "metadata": {},
   "outputs": [
    {
     "data": {
      "text/plain": [
       "array([1, 2])"
      ]
     },
     "execution_count": 31,
     "metadata": {},
     "output_type": "execute_result"
    }
   ],
   "source": [
    "#Se observa que en seguridad solo se tienen dos valores únicos, siendo 1 igual a seguro y 2 a inseguro\n",
    "data.Seguridad.unique()"
   ]
  },
  {
   "cell_type": "code",
   "execution_count": 32,
   "metadata": {},
   "outputs": [
    {
     "data": {
      "text/html": [
       "<div>\n",
       "<style scoped>\n",
       "    .dataframe tbody tr th:only-of-type {\n",
       "        vertical-align: middle;\n",
       "    }\n",
       "\n",
       "    .dataframe tbody tr th {\n",
       "        vertical-align: top;\n",
       "    }\n",
       "\n",
       "    .dataframe thead th {\n",
       "        text-align: right;\n",
       "    }\n",
       "</style>\n",
       "<table border=\"1\" class=\"dataframe\">\n",
       "  <thead>\n",
       "    <tr style=\"text-align: right;\">\n",
       "      <th></th>\n",
       "      <th>Residencia</th>\n",
       "      <th>Sexo</th>\n",
       "      <th>Edad</th>\n",
       "      <th>Educacion</th>\n",
       "      <th>ing_fam</th>\n",
       "      <th>Transporte</th>\n",
       "      <th>Eficiencia</th>\n",
       "      <th>Seguridad</th>\n",
       "      <th>Ocupación</th>\n",
       "    </tr>\n",
       "  </thead>\n",
       "  <tbody>\n",
       "    <tr>\n",
       "      <th>0</th>\n",
       "      <td>grande</td>\n",
       "      <td>mujer</td>\n",
       "      <td>adulto_mayor</td>\n",
       "      <td>primaria</td>\n",
       "      <td>bajo ingreso</td>\n",
       "      <td>Automóvil</td>\n",
       "      <td>eficiente</td>\n",
       "      <td>seguro</td>\n",
       "      <td>9</td>\n",
       "    </tr>\n",
       "    <tr>\n",
       "      <th>1</th>\n",
       "      <td>grande</td>\n",
       "      <td>mujer</td>\n",
       "      <td>adulto_mayor</td>\n",
       "      <td>preparatoria</td>\n",
       "      <td>alto ingreso</td>\n",
       "      <td>Automóvil</td>\n",
       "      <td>eficiente</td>\n",
       "      <td>inseguro</td>\n",
       "      <td>12</td>\n",
       "    </tr>\n",
       "    <tr>\n",
       "      <th>2</th>\n",
       "      <td>pequeño</td>\n",
       "      <td>mujer</td>\n",
       "      <td>adulto_mayor</td>\n",
       "      <td>preparatoria</td>\n",
       "      <td>bajo ingreso</td>\n",
       "      <td>Automóvil</td>\n",
       "      <td>eficiente</td>\n",
       "      <td>seguro</td>\n",
       "      <td>1</td>\n",
       "    </tr>\n",
       "    <tr>\n",
       "      <th>3</th>\n",
       "      <td>grande</td>\n",
       "      <td>hombre</td>\n",
       "      <td>adulto_mayor</td>\n",
       "      <td>primaria</td>\n",
       "      <td>bajo ingreso</td>\n",
       "      <td>Tren urbano (Metro)</td>\n",
       "      <td>eficiente</td>\n",
       "      <td>inseguro</td>\n",
       "      <td>7</td>\n",
       "    </tr>\n",
       "    <tr>\n",
       "      <th>4</th>\n",
       "      <td>pequeño</td>\n",
       "      <td>mujer</td>\n",
       "      <td>adulto_mayor</td>\n",
       "      <td>primaria</td>\n",
       "      <td>bajo ingreso</td>\n",
       "      <td>Colectivo (Combi)</td>\n",
       "      <td>eficiente</td>\n",
       "      <td>inseguro</td>\n",
       "      <td>7</td>\n",
       "    </tr>\n",
       "  </tbody>\n",
       "</table>\n",
       "</div>"
      ],
      "text/plain": [
       "  Residencia    Sexo          Edad     Educacion       ing_fam  \\\n",
       "0     grande   mujer  adulto_mayor      primaria  bajo ingreso   \n",
       "1     grande   mujer  adulto_mayor  preparatoria  alto ingreso   \n",
       "2    pequeño   mujer  adulto_mayor  preparatoria  bajo ingreso   \n",
       "3     grande  hombre  adulto_mayor      primaria  bajo ingreso   \n",
       "4    pequeño   mujer  adulto_mayor      primaria  bajo ingreso   \n",
       "\n",
       "            Transporte Eficiencia Seguridad  Ocupación  \n",
       "0            Automóvil  eficiente    seguro          9  \n",
       "1            Automóvil  eficiente  inseguro         12  \n",
       "2            Automóvil  eficiente    seguro          1  \n",
       "3  Tren urbano (Metro)  eficiente  inseguro          7  \n",
       "4    Colectivo (Combi)  eficiente  inseguro          7  "
      ]
     },
     "execution_count": 32,
     "metadata": {},
     "output_type": "execute_result"
    }
   ],
   "source": [
    "#Se renombran los valores\n",
    "info_Seguridad = {1:'seguro', 2:'inseguro'}\n",
    "n_Seguridad = [info_Seguridad.get(x) for x in data['Seguridad'].values]\n",
    "data['Seguridad'] = n_Seguridad\n",
    "data.head()"
   ]
  },
  {
   "cell_type": "markdown",
   "metadata": {},
   "source": [
    "Columna 9: Ocupación"
   ]
  },
  {
   "cell_type": "code",
   "execution_count": 33,
   "metadata": {},
   "outputs": [
    {
     "data": {
      "text/plain": [
       "array([ 9, 12,  1,  7, 13,  2, -1,  4,  5, 14, 11, 10,  3, 99,  6,  8, 97,\n",
       "       98])"
      ]
     },
     "execution_count": 33,
     "metadata": {},
     "output_type": "execute_result"
    }
   ],
   "source": [
    "#Se observan los valores únicos de ocupación\n",
    "data.Ocupación.unique()"
   ]
  },
  {
   "cell_type": "code",
   "execution_count": 34,
   "metadata": {},
   "outputs": [],
   "source": [
    "#Se reemplazan los valores -1, 97, 98, 99 por la moda de la columna, ya que estos son tomados como valores faltantes.\n",
    "moda2 = data['Ocupación'].mode()\n",
    "valores_inadecuados2 = [-1, 97, 98, 99]\n",
    "\n",
    "for i, value in enumerate(data.Ocupación):\n",
    "    if value in valores_inadecuados2:\n",
    "        data.at[i, 'Ocupación'] = moda2"
   ]
  },
  {
   "cell_type": "code",
   "execution_count": 35,
   "metadata": {},
   "outputs": [
    {
     "name": "stdout",
     "output_type": "stream",
     "text": [
      "7     332\n",
      "5     133\n",
      "2     114\n",
      "12     94\n",
      "1      82\n",
      "4      82\n",
      "14     73\n",
      "6      72\n",
      "11     67\n",
      "8      56\n",
      "3      30\n",
      "9      28\n",
      "10     23\n",
      "13      5\n",
      "Name: Ocupación, dtype: int64\n"
     ]
    }
   ],
   "source": [
    "#Se obtienen las frecuencias de los valores únicos para así tener una idea de como reducir la cardinalidad de la variable.\n",
    "frecuencias2 = data['Ocupación'].value_counts()\n",
    "\n",
    "print(frecuencias2)"
   ]
  },
  {
   "cell_type": "code",
   "execution_count": 36,
   "metadata": {},
   "outputs": [
    {
     "data": {
      "image/png": "[encoded data removed]",
      "text/plain": [
       "<Figure size 640x480 with 1 Axes>"
      ]
     },
     "metadata": {},
     "output_type": "display_data"
    }
   ],
   "source": [
    "# Se puede visualizar de forma más clara con un gráfico de barras\n",
    "plt.bar(frecuencias2.index, frecuencias2.values)\n",
    "plt.xlabel('Valores')\n",
    "plt.ylabel('Frecuencia')\n",
    "plt.title('Frecuencia de Valores')\n",
    "plt.show()"
   ]
  },
  {
   "cell_type": "markdown",
   "metadata": {},
   "source": [
    "Se hace la agrupación y el renombramiento. Al final se tienen únicamente cuatro grupos\n",
    "\n",
    "* Empleados: Profesionists, Educadores, Agricultor, Empleado y Trabajador industrial\n",
    "\n",
    "* Jefes: Administrador, Trabajador por cuenta propia y Patrón\n",
    "\n",
    "* Servicios: Técnico, Reparador, Servicios domésticos, Servicios\n",
    "\n",
    "* Comerciantes: este apartado no se une a ningún subconjunto ya que es con gran diferencia la moda\n",
    "\n",
    "* Vendedor ambulante: este apartado se deja por separado ya que una de las queries asignadas al equipo envuelve directamente a este apartado"
   ]
  },
  {
   "cell_type": "code",
   "execution_count": 37,
   "metadata": {},
   "outputs": [
    {
     "data": {
      "text/html": [
       "<div>\n",
       "<style scoped>\n",
       "    .dataframe tbody tr th:only-of-type {\n",
       "        vertical-align: middle;\n",
       "    }\n",
       "\n",
       "    .dataframe tbody tr th {\n",
       "        vertical-align: top;\n",
       "    }\n",
       "\n",
       "    .dataframe thead th {\n",
       "        text-align: right;\n",
       "    }\n",
       "</style>\n",
       "<table border=\"1\" class=\"dataframe\">\n",
       "  <thead>\n",
       "    <tr style=\"text-align: right;\">\n",
       "      <th></th>\n",
       "      <th>Residencia</th>\n",
       "      <th>Sexo</th>\n",
       "      <th>Edad</th>\n",
       "      <th>Educacion</th>\n",
       "      <th>ing_fam</th>\n",
       "      <th>Transporte</th>\n",
       "      <th>Eficiencia</th>\n",
       "      <th>Seguridad</th>\n",
       "      <th>Ocupación</th>\n",
       "    </tr>\n",
       "  </thead>\n",
       "  <tbody>\n",
       "    <tr>\n",
       "      <th>0</th>\n",
       "      <td>grande</td>\n",
       "      <td>mujer</td>\n",
       "      <td>adulto_mayor</td>\n",
       "      <td>primaria</td>\n",
       "      <td>bajo ingreso</td>\n",
       "      <td>Automóvil</td>\n",
       "      <td>eficiente</td>\n",
       "      <td>seguro</td>\n",
       "      <td>vendedor_ambulante</td>\n",
       "    </tr>\n",
       "    <tr>\n",
       "      <th>1</th>\n",
       "      <td>grande</td>\n",
       "      <td>mujer</td>\n",
       "      <td>adulto_mayor</td>\n",
       "      <td>preparatoria</td>\n",
       "      <td>alto ingreso</td>\n",
       "      <td>Automóvil</td>\n",
       "      <td>eficiente</td>\n",
       "      <td>inseguro</td>\n",
       "      <td>jefe</td>\n",
       "    </tr>\n",
       "    <tr>\n",
       "      <th>2</th>\n",
       "      <td>pequeño</td>\n",
       "      <td>mujer</td>\n",
       "      <td>adulto_mayor</td>\n",
       "      <td>preparatoria</td>\n",
       "      <td>bajo ingreso</td>\n",
       "      <td>Automóvil</td>\n",
       "      <td>eficiente</td>\n",
       "      <td>seguro</td>\n",
       "      <td>empleado</td>\n",
       "    </tr>\n",
       "    <tr>\n",
       "      <th>3</th>\n",
       "      <td>grande</td>\n",
       "      <td>hombre</td>\n",
       "      <td>adulto_mayor</td>\n",
       "      <td>primaria</td>\n",
       "      <td>bajo ingreso</td>\n",
       "      <td>Tren urbano (Metro)</td>\n",
       "      <td>eficiente</td>\n",
       "      <td>inseguro</td>\n",
       "      <td>comerciante</td>\n",
       "    </tr>\n",
       "    <tr>\n",
       "      <th>4</th>\n",
       "      <td>pequeño</td>\n",
       "      <td>mujer</td>\n",
       "      <td>adulto_mayor</td>\n",
       "      <td>primaria</td>\n",
       "      <td>bajo ingreso</td>\n",
       "      <td>Colectivo (Combi)</td>\n",
       "      <td>eficiente</td>\n",
       "      <td>inseguro</td>\n",
       "      <td>comerciante</td>\n",
       "    </tr>\n",
       "  </tbody>\n",
       "</table>\n",
       "</div>"
      ],
      "text/plain": [
       "  Residencia    Sexo          Edad     Educacion       ing_fam  \\\n",
       "0     grande   mujer  adulto_mayor      primaria  bajo ingreso   \n",
       "1     grande   mujer  adulto_mayor  preparatoria  alto ingreso   \n",
       "2    pequeño   mujer  adulto_mayor  preparatoria  bajo ingreso   \n",
       "3     grande  hombre  adulto_mayor      primaria  bajo ingreso   \n",
       "4    pequeño   mujer  adulto_mayor      primaria  bajo ingreso   \n",
       "\n",
       "            Transporte Eficiencia Seguridad           Ocupación  \n",
       "0            Automóvil  eficiente    seguro  vendedor_ambulante  \n",
       "1            Automóvil  eficiente  inseguro                jefe  \n",
       "2            Automóvil  eficiente    seguro            empleado  \n",
       "3  Tren urbano (Metro)  eficiente  inseguro         comerciante  \n",
       "4    Colectivo (Combi)  eficiente  inseguro         comerciante  "
      ]
     },
     "execution_count": 37,
     "metadata": {},
     "output_type": "execute_result"
    }
   ],
   "source": [
    "empleados = [1, 3, 4, 8, 14]\n",
    "jefes = [6, 12, 13]\n",
    "servicios = [2, 5, 10, 11]\n",
    "\n",
    "\n",
    "for i, value in enumerate(data.Ocupación):\n",
    "    if value in empleados:\n",
    "        data.Ocupación[i] = 'empleado'\n",
    "    elif value in jefes:\n",
    "        data.Ocupación[i] = 'jefe'\n",
    "    elif value in servicios:\n",
    "        data.Ocupación[i] = 'servidor'\n",
    "    elif value == 7:\n",
    "        data.Ocupación[i] = 'comerciante'\n",
    "    elif value == 9:\n",
    "        data.Ocupación[i] = 'vendedor_ambulante'\n",
    "data.head()"
   ]
  },
  {
   "cell_type": "code",
   "execution_count": 39,
   "metadata": {},
   "outputs": [],
   "source": [
    "# Exportar la nueva base \n",
    "data.to_csv('clean_data_evidencia1.csv', index=False)"
   ]
  }
 ],
 "metadata": {
  "kernelspec": {
   "display_name": "Python 3",
   "language": "python",
   "name": "python3"
  },
  "language_info": {
   "codemirror_mode": {
    "name": "ipython",
    "version": 3
   },
   "file_extension": ".py",
   "mimetype": "text/x-python",
   "name": "python",
   "nbconvert_exporter": "python",
   "pygments_lexer": "ipython3",
   "version": "3.8.5"
  }
 },
 "nbformat": 4,
 "nbformat_minor": 5
}
